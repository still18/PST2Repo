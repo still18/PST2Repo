{
 "cells": [
  {
   "cell_type": "code",
   "execution_count": 377,
   "metadata": {},
   "outputs": [],
   "source": [
    "import json\n",
    "import requests"
   ]
  },
  {
   "cell_type": "code",
   "execution_count": 378,
   "metadata": {},
   "outputs": [],
   "source": [
    "mbid_list = [['04 Limelight.m4a',\n",
    "  ['3ed46a79-c541-496b-9508-c04ecf9fb206',\n",
    "   '1296354f-cf91-481b-af78-78d8ccde1ba8',\n",
    "   '27e8c340-3719-4fe9-b42f-a9455ca8cfb8',\n",
    "   '2dc9eae1-123c-4c83-af0b-abc9140ffbf1',\n",
    "   '34e8445d-328b-4d3e-aa34-8f369f61c957',\n",
    "   '3ed46a79-c541-496b-9508-c04ecf9fb206',\n",
    "   '6f03e577-b6fc-49f7-92b4-87fafb466b2b',\n",
    "   'acc4f977-75ab-4632-914d-e5be45bbc1ea',\n",
    "   'e972d740-c61c-464a-bcc4-367077a5a907',\n",
    "   '34e8445d-328b-4d3e-aa34-8f369f61c957',\n",
    "   '3ed46a79-c541-496b-9508-c04ecf9fb206',\n",
    "   '66b4e850-6eff-4cf0-b8aa-152acb4e3749',\n",
    "   '7a78aec9-d569-43a0-a46d-0a1f39b0db3c',\n",
    "   'acc4f977-75ab-4632-914d-e5be45bbc1ea',\n",
    "   'af6d48ea-2408-4ac5-bb00-e01d040afb1e',\n",
    "   'e972d740-c61c-464a-bcc4-367077a5a907']],\n",
    " ['02 Red Barchetta.m4a',\n",
    "  ['0266c4c2-5e64-402e-8e26-5cd46b64e8c9',\n",
    "   '73fed07a-4515-4dad-8cd5-212bbfcaaa75',\n",
    "   '7e73d1ae-36fa-47a7-9f1d-c9141bcc27e4',\n",
    "   'b059adea-9aaf-4944-92de-4c893fe36760',\n",
    "   '0266c4c2-5e64-402e-8e26-5cd46b64e8c9',\n",
    "   '7e73d1ae-36fa-47a7-9f1d-c9141bcc27e4',\n",
    "   '0266c4c2-5e64-402e-8e26-5cd46b64e8c9',\n",
    "   '0266c4c2-5e64-402e-8e26-5cd46b64e8c9']],\n",
    " ['06 Witch Hunt (Part III of Fear).m4a',\n",
    "  ['04bd352c-9afd-4910-8b95-b27b141d7bcc',\n",
    "   '9057d88d-f03a-4c0f-b55f-e0d5b901e288',\n",
    "   'bd9da11c-6e24-48f9-b957-210bb42d44ac',\n",
    "   'c0910452-663c-4049-9ec7-0843c477b57d']],\n",
    " ['07 Vital Signs.m4a',\n",
    "  ['6e55a8c0-0177-4e49-a633-e40b7f83afc7',\n",
    "   '71fcdceb-aa1f-49bb-9d5d-86319bb182d1',\n",
    "   'd05265b3-629e-4078-978c-8245be8292b0',\n",
    "   '71fcdceb-aa1f-49bb-9d5d-86319bb182d1']],\n",
    " ['01 Tom Sawyer.m4a',\n",
    "  ['518f1f5b-cb33-4d82-9dba-407071badf43',\n",
    "   'bd345ca2-b502-4dea-a3bc-d3ca784862f6',\n",
    "   'cb837d0c-5115-479d-ac0e-ab1650fe9078',\n",
    "   '1e5b8003-41cc-480f-a114-d73aff634897',\n",
    "   '27ecff53-9f24-4483-9dad-8b9facbcd03f',\n",
    "   '4daa5930-9ddf-423d-bae9-9717ed14f0f0',\n",
    "   'a399810e-f2ab-4def-9f07-70f875fada32',\n",
    "   'a6937fa5-7d3c-4294-a4fa-fada5abfa4d5',\n",
    "   'bfdf2fa3-0e38-4ba1-a9b5-e21ea683d061',\n",
    "   'cb837d0c-5115-479d-ac0e-ab1650fe9078',\n",
    "   '3c5dc6ac-c8ce-4f8c-8ace-d6d72b0cbdd3',\n",
    "   '72fba58f-2b2d-46b1-a13a-d78d03b44388',\n",
    "   'a6937fa5-7d3c-4294-a4fa-fada5abfa4d5',\n",
    "   'cb837d0c-5115-479d-ac0e-ab1650fe9078',\n",
    "   'cbff4773-b2a0-46aa-986f-328d37410b04',\n",
    "   'cb837d0c-5115-479d-ac0e-ab1650fe9078',\n",
    "   'cb837d0c-5115-479d-ac0e-ab1650fe9078']],\n",
    " ['05 The Camera Eye.m4a',\n",
    "  ['29bd7aae-9ddf-4d9b-9c26-63a6f4bfe869',\n",
    "   '7d9354b2-f8d8-4b7c-be95-1acb97771d2b',\n",
    "   'bdf9a868-7c35-4737-9e6f-1e08705bc88a',\n",
    "   '7d9354b2-f8d8-4b7c-be95-1acb97771d2b',\n",
    "   '7d9354b2-f8d8-4b7c-be95-1acb97771d2b']],\n",
    " ['03 YYZ.m4a',\n",
    "  ['336acc6e-0f4a-4dae-8427-fe48aaa8984c',\n",
    "   '5ca88f3c-b24a-4cce-9073-d63a5fdca6d8',\n",
    "   '90087a40-9c45-486d-93e4-da5d5ee3b824',\n",
    "   'eb83a2c3-9142-4708-8b28-043291f9f0bd',\n",
    "   '336acc6e-0f4a-4dae-8427-fe48aaa8984c']]]"
   ]
  },
  {
   "cell_type": "code",
   "execution_count": 379,
   "metadata": {},
   "outputs": [],
   "source": [
    "#Using 'Moving Pictures' by Rush to produce a list of high- and low-level data.\n",
    "\n",
    "moving_pictures = [\"cb837d0c-5115-479d-ac0e-ab1650fe9078\", \"0266c4c2-5e64-402e-8e26-5cd46b64e8c9\", \"336acc6e-0f4a-4dae-8427-fe48aaa8984c\", \"3ed46a79-c541-496b-9508-c04ecf9fb206\", \"7d9354b2-f8d8-4b7c-be95-1acb97771d2b\", \"9057d88d-f03a-4c0f-b55f-e0d5b901e288\", \"71fcdceb-aa1f-49bb-9d5d-86319bb182d1\"]\n",
    "mbid_dict = {}"
   ]
  },
  {
   "cell_type": "code",
   "execution_count": 380,
   "metadata": {},
   "outputs": [],
   "source": [
    "def get_low_level(mbid):\n",
    "    base_api_url = \"https://acousticbrainz.org/api/v1/\"\n",
    "    url = base_api_url + mbid + \"/low-level?n=0\"\n",
    "    data = requests.get(url)\n",
    "    return data.json()"
   ]
  },
  {
   "cell_type": "code",
   "execution_count": 381,
   "metadata": {},
   "outputs": [],
   "source": [
    "def get_high_level(mbid):\n",
    "    base_api_url = \"https://acousticbrainz.org/api/v1/\"\n",
    "    url = base_api_url + mbid + \"/high-level?n=0\"\n",
    "    data = requests.get(url)\n",
    "    return data.json()"
   ]
  },
  {
   "cell_type": "code",
   "execution_count": 382,
   "metadata": {},
   "outputs": [],
   "source": [
    "def extract_API(a_list, a_dict):\n",
    "    for i in a_list:\n",
    "        low_level = get_low_level(i)\n",
    "        high_level = get_high_level(i)\n",
    "        a_dict[i] = [low_level, high_level]"
   ]
  },
  {
   "cell_type": "code",
   "execution_count": 383,
   "metadata": {},
   "outputs": [],
   "source": [
    "extract_API(moving_pictures, mbid_dict)"
   ]
  },
  {
   "cell_type": "code",
   "execution_count": 384,
   "metadata": {},
   "outputs": [],
   "source": [
    "def get_mbid(track_name):\n",
    "    plus_name = \"\"\n",
    "    for i in track_name:\n",
    "        if i == \" \":\n",
    "            plus_name.append(\"+\")\n",
    "        else:\n",
    "            plus_name.append(i)\n",
    "    base_api_url = \"https://musicbrainz.org/ws/2/\"\n",
    "    url = base_api_url  \n",
    "    data = requests.get(url)\n",
    "    return data.json()"
   ]
  },
  {
   "cell_type": "code",
   "execution_count": 385,
   "metadata": {},
   "outputs": [],
   "source": [
    "def get_song_list():\n",
    "    f = open(\"song_info.txt\", \"r\")\n",
    "    data = f.readlines()\n",
    "    f.close()\n",
    "    return data"
   ]
  },
  {
   "cell_type": "code",
   "execution_count": 386,
   "metadata": {},
   "outputs": [],
   "source": [
    "def update_song_list(l, now):\n",
    "    f = open(\"song_info.txt\", \"a\")\n",
    "    for k, v in l.items():\n",
    "        if k not in now:\n",
    "            f.write(str(k) + \": \" + str(v)+\"\\n\")\n",
    "    f.close()\n",
    "    return f"
   ]
  },
  {
   "cell_type": "code",
   "execution_count": 387,
   "metadata": {},
   "outputs": [
    {
     "data": {
      "text/plain": [
       "<_io.TextIOWrapper name='song_info.txt' mode='a' encoding='cp1252'>"
      ]
     },
     "execution_count": 387,
     "metadata": {},
     "output_type": "execute_result"
    }
   ],
   "source": [
    "current = get_song_list()\n",
    "update_song_list(mbid_dict, current)"
   ]
  },
  {
   "cell_type": "code",
   "execution_count": null,
   "metadata": {},
   "outputs": [],
   "source": []
  },
  {
   "cell_type": "code",
   "execution_count": 388,
   "metadata": {},
   "outputs": [],
   "source": [
    "import random"
   ]
  },
  {
   "cell_type": "code",
   "execution_count": 389,
   "metadata": {},
   "outputs": [],
   "source": [
    "mood_list = []\n",
    "for i in range(0, len(mbid_dict)):\n",
    "    a = moving_pictures[i]               #Load Individual Song Info\n",
    "    song_info = mbid_dict[a][1]\n",
    "    #print(song_info)\n",
    "    song_high = song_info[\"highlevel\"]   #High-Level Data\n",
    "\n",
    "    song_acoustic = song_high[\"mood_acoustic\"][\"probability\"]  #song_mood is probability of a mood\n",
    "    acoustic_value =song_high[\"mood_acoustic\"][\"value\"]        #acoustic_value is value of mood: acoustic vs not_acoustic\n",
    "\n",
    "    song_electronic = song_high[\"mood_electronic\"][\"probability\"]\n",
    "    electronic_value = song_high[\"mood_electronic\"][\"value\"]\n",
    "\n",
    "    song_happy = song_high[\"mood_happy\"][\"probability\"]\n",
    "    happy_value = song_high[\"mood_happy\"][\"value\"]\n",
    "\n",
    "    song_aggressive = song_high[\"mood_aggressive\"][\"probability\"]\n",
    "    aggressive_value = song_high[\"mood_aggressive\"][\"value\"]\n",
    "\n",
    "    song_party = song_high[\"mood_party\"][\"probability\"]\n",
    "    party_value = song_high[\"mood_party\"][\"value\"]\n",
    "\n",
    "    song_sad = song_high[\"mood_sad\"][\"probability\"]\n",
    "    sad_value = song_high[\"mood_sad\"][\"value\"]\n",
    "\n",
    "    song_relaxed = song_high[\"mood_relaxed\"][\"probability\"]\n",
    "    relaxed_value = song_high[\"mood_relaxed\"][\"value\"]\n",
    "\n",
    "    #Sort all song moods\n",
    "    mood_info = [relaxed_value, song_relaxed*100, aggressive_value, song_aggressive*100, acoustic_value, song_acoustic*100, electronic_value, song_electronic*100, happy_value, song_happy*100, sad_value, song_sad*100, party_value, song_party*100]\n",
    "    mood_list = mood_list + [mood_info]\n",
    "    "
   ]
  },
  {
   "cell_type": "code",
   "execution_count": null,
   "metadata": {},
   "outputs": [],
   "source": []
  },
  {
   "cell_type": "code",
   "execution_count": 390,
   "metadata": {},
   "outputs": [],
   "source": [
    "songsAggressive = []\n",
    "songsElectronic = []\n",
    "songsHappy = []\n",
    "songsParty = []\n",
    "for i in range(0, len(mood_list)):\n",
    "    songsAggressive = songsAggressive + mood_list[i][0:4]\n",
    "    songsElectronic = songsElectronic + mood_list[i][4:8]\n",
    "    songsHappy = songsHappy + mood_list[i][8:12]\n",
    "    songsParty = songsParty + mood_list[i][12:14]\n"
   ]
  },
  {
   "cell_type": "code",
   "execution_count": 391,
   "metadata": {},
   "outputs": [],
   "source": [
    "def sortMoodAggressive(songsAggressive):\n",
    "    out = []\n",
    "    for i in range(0,len(songsAggressive)):       #Sorts between aggressive and relaxed moods\n",
    "                                                  #Largest probability value assigned to song\n",
    "        if str(songsAggressive[i]) == \"relaxed\":\n",
    "            if str(songsAggressive[i+2]) == \"aggressive\":\n",
    "                if songsAggressive[i+1] > songsAggressive[i+3]:\n",
    "                    out = out + [\"relaxed\", songsAggressive[i+1]]\n",
    "                else:\n",
    "                    out = out + [\"aggressive\", songsAggressive[i+3]]\n",
    "                    \n",
    "        if str(songsAggressive[i]) == \"relaxed\":\n",
    "            if str(songsAggressive[i+2]) == \"not_aggressive\":\n",
    "                if songsAggressive[i+1] > songsAggressive[i+3]:\n",
    "                    out = out + [\"relaxed\", songsAggressive[i+1]]\n",
    "                else:\n",
    "                    out = out + [\"relaxed\", songsAggressive[i+3]]\n",
    "\n",
    "        if str(songsAggressive[i]) == \"not_relaxed\":\n",
    "            if str(songsAggressive[i+2]) == \"aggressive\":\n",
    "                if songsAggressive[i+1] > songsAggressive[i+3]:\n",
    "                    out = out + [\"aggressive\", songsAggressive[i+1]]\n",
    "                else:\n",
    "                    out = out + [\"aggressive\", songsAggressive[i+3]]\n",
    "\n",
    "        if str(songsAggressive[i]) == \"not_relaxed\":\n",
    "            if str(songsAggressive[i+2]) == \"not_aggressive\":\n",
    "                if songsAggressive[i+1] > songsAggressive[i+3]:\n",
    "                    out = out + [\"aggressive\", songsAggressive[i+1]]\n",
    "                else:\n",
    "                    out = out + [\"relaxed\", songsAggressive[i+3]]\n",
    "\n",
    "    for i in range(0, len(out)):\n",
    "        if out[i] == \"relaxed\":\n",
    "            out[i] = \"aggressive\"\n",
    "            out[i+1] = 100 - out[i+1]\n",
    "\n",
    "    num = []\n",
    "    new = []\n",
    "    for i in range(0, len(out)):\n",
    "        if type(out[i]) != str:\n",
    "            num = num + [out[i]]\n",
    "    for i in range(0, len(out)):    #Normalizes probability values 0-1\n",
    "        if type(out[i]) != str:\n",
    "            new = new+[(out[i]-min(num))/(max(num)-min(num))]\n",
    "    Aggressive = new \n",
    "    return Aggressive\n"
   ]
  },
  {
   "cell_type": "code",
   "execution_count": 392,
   "metadata": {},
   "outputs": [],
   "source": [
    "def sortMoodElectronic(songsElectronic):\n",
    "    out = []\n",
    "    for i in range(0,len(songsElectronic)):\n",
    "        \n",
    "        if str(songsElectronic[i]) == \"acoustic\":\n",
    "            if str(songsElectronic[i+2]) == \"electronic\":\n",
    "                if songsElectronic[i+1] > songsElectronic[i+3]:\n",
    "                    out = out + [\"acoustic\", songsElectronic[i+1]]\n",
    "                else:\n",
    "                    out = out + [\"electronic\", songsElectronic[i+3]]\n",
    "                    \n",
    "        if str(songsElectronic[i]) == \"acoustic\":\n",
    "            if str(songsElectronic[i+2]) == \"not_electronic\":\n",
    "                if songsElectronic[i+1] > songsElectronic[i+3]:\n",
    "                    out = out + [\"acoustic\", songsElectronic[i+1]]\n",
    "                else:\n",
    "                    out = out + [\"acoustic\", songsElectronic[i+3]]\n",
    "\n",
    "        if str(songsElectronic[i]) == \"not_acoustic\":\n",
    "            if str(songsElectronic[i+2]) == \"electronic\":\n",
    "                if songsElectronic[i+1] > songsElectronic[i+3]:\n",
    "                    out = out + [\"electronic\", songsElectronic[i+1]]\n",
    "                else:\n",
    "                    out = out + [\"electronic\", songsElectronic[i+3]]\n",
    "\n",
    "        if str(songsElectronic[i]) == \"not_acoustic\":\n",
    "            if str(songsElectronic[i+2]) == \"not_electronic\":\n",
    "                if songsElectronic[i+1] > songsElectronic[i+3]:\n",
    "                    out = out + [\"electronic\", songsElectronic[i+1]]\n",
    "                else:\n",
    "                    out = out + [\"acoustic\", songsElectronic[i+3]]\n",
    "\n",
    "    for i in range(0, len(out)):\n",
    "        if out[i] == \"acoustic\":\n",
    "            out[i] = \"electronic\"\n",
    "            out[i+1] = 100 - out[i+1]\n",
    "\n",
    "    num = []\n",
    "    new = []\n",
    "    for i in range(0, len(out)):\n",
    "        if type(out[i]) != str:\n",
    "            num = num + [out[i]]\n",
    "    for i in range(0, len(out)):\n",
    "        if type(out[i]) != str:\n",
    "            new = new+[(out[i]-min(num))/(max(num)-min(num))]\n",
    "    Electronic = new \n",
    "    return Electronic\n"
   ]
  },
  {
   "cell_type": "code",
   "execution_count": 393,
   "metadata": {},
   "outputs": [],
   "source": [
    "def sortMoodHappy(songsHappy):\n",
    "    out = []\n",
    "    for i in range(0,len(songsHappy)):\n",
    "        \n",
    "        if str(songsHappy[i]) == \"happy\":\n",
    "            if str(songsHappy[i+2]) == \"sad\":\n",
    "                if songsHappy[i+1] > songsHappy[i+3]:\n",
    "                    out = out + [\"happy\", songsHappy[i+1]]\n",
    "                else:\n",
    "                    out = out + [\"sad\", songsHappy[i+3]]\n",
    "                    \n",
    "        if str(songsHappy[i]) == \"happy\":\n",
    "            if str(songsHappy[i+2]) == \"not_sad\":\n",
    "                if songsHappy[i+1] > songsHappy[i+3]:\n",
    "                    out = out + [\"happy\", songsHappy[i+1]]\n",
    "                else:\n",
    "                    out = out + [\"happy\", songsHappy[i+3]]\n",
    "\n",
    "        if str(songsHappy[i]) == \"not_happy\":\n",
    "            if str(songsHappy[i+2]) == \"sad\":\n",
    "                if songsHappy[i+1] > songsHappy[i+3]:\n",
    "                    out = out + [\"sad\", songsHappy[i+1]]\n",
    "                else:\n",
    "                    out = out + [\"sad\", songsHappy[i+3]]\n",
    "\n",
    "        if str(songsHappy[i]) == \"not_happy\":\n",
    "            if str(songsHappy[i+2]) == \"not_sad\":\n",
    "                if songsHappy[i+1] > songsHappy[i+3]:\n",
    "                    out = out + [\"sad\", songsHappy[i+1]]\n",
    "                else:\n",
    "                    out = out + [\"happy\", songsHappy[i+3]]\n",
    "\n",
    "    for i in range(0, len(out)):\n",
    "        if out[i] == \"happy\":\n",
    "            out[i] = \"sad\"\n",
    "            out[i+1] = 100 - out[i+1]\n",
    "\n",
    "    num = []\n",
    "    new = []\n",
    "    for i in range(0, len(out)):\n",
    "        if type(out[i]) != str:\n",
    "            num = num + [out[i]]\n",
    "    for i in range(0, len(out)):\n",
    "        if type(out[i]) != str:\n",
    "            new = new+[(out[i]-min(num))/(max(num)-min(num))]\n",
    "    Happy = new\n",
    "    return Happy\n",
    "\n",
    "# print(sortMoodHappy(songsHappy))\n",
    "# sortMoodHappy(songsHappy)"
   ]
  },
  {
   "cell_type": "code",
   "execution_count": 394,
   "metadata": {},
   "outputs": [],
   "source": [
    "def sortMoodParty(songsParty):\n",
    "    out = songsParty \n",
    "    for i in range(0, len(out)):\n",
    "        if out[i] == \"not_party\":\n",
    "            out[i] = \"party\"\n",
    "            out[i+1] = 100 - out[i+1]\n",
    "    num = []\n",
    "    new = []\n",
    "    for i in range(0, len(out)):\n",
    "        if type(out[i]) != str:\n",
    "            num = num + [out[i]]\n",
    "    for i in range(0, len(out)):\n",
    "        if type(out[i]) != str:\n",
    "            new = new+[(out[i]-min(num))/(max(num)-min(num))]\n",
    "    Party = new\n",
    "    return Party\n",
    "\n",
    "# print(sortMoodParty(songsParty))\n",
    "# sortMoodParty(songsParty)"
   ]
  },
  {
   "cell_type": "code",
   "execution_count": 395,
   "metadata": {},
   "outputs": [],
   "source": [
    "A = sortMoodAggressive(songsAggressive)\n",
    "E = sortMoodElectronic(songsElectronic)\n",
    "H = sortMoodHappy(songsHappy)\n",
    "P = sortMoodParty(songsParty)\n",
    "#print(A)\n",
    "#print(E)\n",
    "#print(H)\n",
    "#print(P)\n",
    "songMoodValues = []  #Each list is a song's moods in order of A E H P\n",
    "for i in range(0, len(A)):\n",
    "    song = [A[i], E[i], H[i], P[i]]\n",
    "    songMoodValues = songMoodValues + [song]\n",
    "#print(songMoodValues)"
   ]
  },
  {
   "cell_type": "code",
   "execution_count": 396,
   "metadata": {},
   "outputs": [],
   "source": [
    "moodSettings = [\"Aggressive\", \"Electronic\", \"Sad\", \"Chill\"]  #Mood Input by User\n",
    "inputTempo = 140 #Tempo Input by User"
   ]
  },
  {
   "cell_type": "code",
   "execution_count": 397,
   "metadata": {},
   "outputs": [],
   "source": [
    "for i in range(0, len(songMoodValues)):    #Defines relative mood of song in reference to entire library\n",
    "    if songMoodValues[i][0] >= 0.5:        #For example, if the API thinks all songs are happy, then the songs least likely\n",
    "        songMoodValues[i][0] = \"Aggressive\"#to be happy are assigned to sad\n",
    "    else:                                  #Currently, mood selection is centered around the midpoint of the normalized values\n",
    "        songMoodValues[i][0] = \"Relaxed\"\n",
    "    if songMoodValues[i][1] >= 0.5:\n",
    "        songMoodValues[i][1] = \"Electronic\"\n",
    "    else:\n",
    "        songMoodValues[i][1] = \"Acoustic\"\n",
    "    if songMoodValues[i][2] >= 0.5:\n",
    "        songMoodValues[i][2] = \"Happy\"\n",
    "    else:\n",
    "        songMoodValues[i][2] = \"Sad\"\n",
    "    if songMoodValues[i][3] >= 0.5:\n",
    "        songMoodValues[i][3] = \"Party\"\n",
    "    else:\n",
    "        songMoodValues[i][3] = \"Chill\"\n",
    "    \n",
    "   "
   ]
  },
  {
   "cell_type": "code",
   "execution_count": 398,
   "metadata": {},
   "outputs": [],
   "source": [
    "songChoice = []       #Compares songs to selected mood input to select which songs to play\n",
    "for i in range(0, len(songMoodValues)):\n",
    "    if songMoodValues[i] == moodSettings:\n",
    "        songChoice = songChoice + [moving_pictures[i]]\n",
    "# songChoice"
   ]
  },
  {
   "cell_type": "code",
   "execution_count": null,
   "metadata": {},
   "outputs": [],
   "source": []
  },
  {
   "cell_type": "code",
   "execution_count": 369,
   "metadata": {},
   "outputs": [],
   "source": [
    "tempoSort = []\n",
    "for i in range(0, len(songChoice)):\n",
    "    if mbid_dict[songChoice[i]][0][\"rhythm\"][\"bpm\"] >= float(inputTempo - 10) and mbid_dict[songChoice[i]][0][\"rhythm\"][\"bpm\"] <= float(inputTempo + 10):\n",
    "        tempoSort = tempoSort + [songChoice[i]]\n",
    "songChoice = tempoSort"
   ]
  },
  {
   "cell_type": "code",
   "execution_count": 372,
   "metadata": {},
   "outputs": [],
   "source": [
    "new = []            #Converts song IDs to file names\n",
    "for n in range(0, len(songChoice)):   \n",
    "    for i in range(0, len(mbid_list)):\n",
    "        for j in range(0, len(mbid_list[i][1])):\n",
    "            if songChoice[n] == mbid_list[i][1][j]:\n",
    "                new = new + [mbid_list[i][0]]\n",
    "songNames = list(dict.fromkeys(new))     #Omit Duplicates  \n",
    "random.shuffle(songNames)   #Shuffles songs"
   ]
  },
  {
   "cell_type": "code",
   "execution_count": 373,
   "metadata": {},
   "outputs": [
    {
     "data": {
      "text/plain": [
       "['07 Vital Signs.m4a', '02 Red Barchetta.m4a']"
      ]
     },
     "execution_count": 373,
     "metadata": {},
     "output_type": "execute_result"
    }
   ],
   "source": [
    "songNames"
   ]
  },
  {
   "cell_type": "code",
   "execution_count": 301,
   "metadata": {},
   "outputs": [
    {
     "data": {
      "text/plain": [
       "172.265380859"
      ]
     },
     "execution_count": 301,
     "metadata": {},
     "output_type": "execute_result"
    }
   ],
   "source": []
  },
  {
   "cell_type": "code",
   "execution_count": null,
   "metadata": {},
   "outputs": [],
   "source": []
  }
 ],
 "metadata": {
  "kernelspec": {
   "display_name": "Python 3",
   "language": "python",
   "name": "python3"
  },
  "language_info": {
   "codemirror_mode": {
    "name": "ipython",
    "version": 3
   },
   "file_extension": ".py",
   "mimetype": "text/x-python",
   "name": "python",
   "nbconvert_exporter": "python",
   "pygments_lexer": "ipython3",
   "version": "3.8.3"
  }
 },
 "nbformat": 4,
 "nbformat_minor": 4
}
