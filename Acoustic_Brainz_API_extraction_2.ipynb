{
 "cells": [
  {
   "cell_type": "code",
   "execution_count": 1,
   "metadata": {},
   "outputs": [],
   "source": [
    "import json\n",
    "import requests\n",
    "import os\n",
    "import acoustid"
   ]
  },
  {
   "cell_type": "code",
   "execution_count": null,
   "metadata": {},
   "outputs": [],
   "source": []
  },
  {
   "cell_type": "code",
   "execution_count": 2,
   "metadata": {},
   "outputs": [
    {
     "data": {
      "text/plain": [
       "['04 Limelight.m4a',\n",
       " '02 Red Barchetta.m4a',\n",
       " '06 Witch Hunt (Part III of Fear).m4a',\n",
       " '07 Vital Signs.m4a',\n",
       " '01 Tom Sawyer.m4a',\n",
       " '05 The Camera Eye.m4a',\n",
       " '03 YYZ.m4a']"
      ]
     },
     "execution_count": 2,
     "metadata": {},
     "output_type": "execute_result"
    }
   ],
   "source": [
    "## Edit the following variable \"path\" to the path of your music library ##\n",
    "base_path = \"/Users/josephhackman/Desktop/moving_pictures_folder/\"\n",
    "\n",
    "## Edit the following boolean if your music is in \"abum folders\". ##\n",
    "albums_folders = False\n",
    "\n",
    "files = os.listdir(base_path)\n",
    "files"
   ]
  },
  {
   "cell_type": "code",
   "execution_count": 3,
   "metadata": {},
   "outputs": [
    {
     "name": "stdout",
     "output_type": "stream",
     "text": [
      "3ed46a79-c541-496b-9508-c04ecf9fb206\n",
      "0266c4c2-5e64-402e-8e26-5cd46b64e8c9\n",
      "04bd352c-9afd-4910-8b95-b27b141d7bcc\n",
      "6e55a8c0-0177-4e49-a633-e40b7f83afc7\n",
      "518f1f5b-cb33-4d82-9dba-407071badf43\n",
      "29bd7aae-9ddf-4d9b-9c26-63a6f4bfe869\n",
      "336acc6e-0f4a-4dae-8427-fe48aaa8984c\n"
     ]
    }
   ],
   "source": [
    "api_key = 'cSpUJKpD'\n",
    "base_path = \"/Users/josephhackman/Desktop/moving_pictures_folder/\"\n",
    "\n",
    "mbid_list = []\n",
    "\n",
    "for i in files:\n",
    "    results = acoustid.match(api_key, base_path+i)\n",
    "    temp = []\n",
    "    for score, recording_id, title, artist in results:\n",
    "        #mbid_list.append(recording_id)\n",
    "        temp.append(recording_id)\n",
    "    print(temp[0])\n",
    "    mbid_list.append([i, temp])"
   ]
  },
  {
   "cell_type": "code",
   "execution_count": 4,
   "metadata": {},
   "outputs": [
    {
     "data": {
      "text/plain": [
       "[['04 Limelight.m4a',\n",
       "  ['3ed46a79-c541-496b-9508-c04ecf9fb206',\n",
       "   '1296354f-cf91-481b-af78-78d8ccde1ba8',\n",
       "   '27e8c340-3719-4fe9-b42f-a9455ca8cfb8',\n",
       "   '2dc9eae1-123c-4c83-af0b-abc9140ffbf1',\n",
       "   '34e8445d-328b-4d3e-aa34-8f369f61c957',\n",
       "   '3ed46a79-c541-496b-9508-c04ecf9fb206',\n",
       "   '6f03e577-b6fc-49f7-92b4-87fafb466b2b',\n",
       "   'acc4f977-75ab-4632-914d-e5be45bbc1ea',\n",
       "   'e972d740-c61c-464a-bcc4-367077a5a907',\n",
       "   '34e8445d-328b-4d3e-aa34-8f369f61c957',\n",
       "   '3ed46a79-c541-496b-9508-c04ecf9fb206',\n",
       "   '66b4e850-6eff-4cf0-b8aa-152acb4e3749',\n",
       "   '7a78aec9-d569-43a0-a46d-0a1f39b0db3c',\n",
       "   'acc4f977-75ab-4632-914d-e5be45bbc1ea',\n",
       "   'af6d48ea-2408-4ac5-bb00-e01d040afb1e',\n",
       "   'e972d740-c61c-464a-bcc4-367077a5a907']],\n",
       " ['02 Red Barchetta.m4a',\n",
       "  ['0266c4c2-5e64-402e-8e26-5cd46b64e8c9',\n",
       "   '73fed07a-4515-4dad-8cd5-212bbfcaaa75',\n",
       "   '7e73d1ae-36fa-47a7-9f1d-c9141bcc27e4',\n",
       "   'b059adea-9aaf-4944-92de-4c893fe36760',\n",
       "   '0266c4c2-5e64-402e-8e26-5cd46b64e8c9',\n",
       "   '7e73d1ae-36fa-47a7-9f1d-c9141bcc27e4',\n",
       "   '0266c4c2-5e64-402e-8e26-5cd46b64e8c9',\n",
       "   '0266c4c2-5e64-402e-8e26-5cd46b64e8c9']],\n",
       " ['06 Witch Hunt (Part III of Fear).m4a',\n",
       "  ['04bd352c-9afd-4910-8b95-b27b141d7bcc',\n",
       "   '9057d88d-f03a-4c0f-b55f-e0d5b901e288',\n",
       "   'bd9da11c-6e24-48f9-b957-210bb42d44ac',\n",
       "   'c0910452-663c-4049-9ec7-0843c477b57d']],\n",
       " ['07 Vital Signs.m4a',\n",
       "  ['6e55a8c0-0177-4e49-a633-e40b7f83afc7',\n",
       "   '71fcdceb-aa1f-49bb-9d5d-86319bb182d1',\n",
       "   'd05265b3-629e-4078-978c-8245be8292b0',\n",
       "   '71fcdceb-aa1f-49bb-9d5d-86319bb182d1']],\n",
       " ['01 Tom Sawyer.m4a',\n",
       "  ['518f1f5b-cb33-4d82-9dba-407071badf43',\n",
       "   'bd345ca2-b502-4dea-a3bc-d3ca784862f6',\n",
       "   'cb837d0c-5115-479d-ac0e-ab1650fe9078',\n",
       "   '1e5b8003-41cc-480f-a114-d73aff634897',\n",
       "   '27ecff53-9f24-4483-9dad-8b9facbcd03f',\n",
       "   '4daa5930-9ddf-423d-bae9-9717ed14f0f0',\n",
       "   'a2d68d6f-b2fc-4dc3-992a-832da1448091',\n",
       "   'a399810e-f2ab-4def-9f07-70f875fada32',\n",
       "   'a6937fa5-7d3c-4294-a4fa-fada5abfa4d5',\n",
       "   'bfdf2fa3-0e38-4ba1-a9b5-e21ea683d061',\n",
       "   'cb837d0c-5115-479d-ac0e-ab1650fe9078',\n",
       "   '3c5dc6ac-c8ce-4f8c-8ace-d6d72b0cbdd3',\n",
       "   '72fba58f-2b2d-46b1-a13a-d78d03b44388',\n",
       "   'a6937fa5-7d3c-4294-a4fa-fada5abfa4d5',\n",
       "   'cb837d0c-5115-479d-ac0e-ab1650fe9078',\n",
       "   'cbff4773-b2a0-46aa-986f-328d37410b04',\n",
       "   'cb837d0c-5115-479d-ac0e-ab1650fe9078',\n",
       "   'cb837d0c-5115-479d-ac0e-ab1650fe9078']],\n",
       " ['05 The Camera Eye.m4a',\n",
       "  ['29bd7aae-9ddf-4d9b-9c26-63a6f4bfe869',\n",
       "   '7d9354b2-f8d8-4b7c-be95-1acb97771d2b',\n",
       "   'bdf9a868-7c35-4737-9e6f-1e08705bc88a',\n",
       "   '7d9354b2-f8d8-4b7c-be95-1acb97771d2b',\n",
       "   '7d9354b2-f8d8-4b7c-be95-1acb97771d2b']],\n",
       " ['03 YYZ.m4a',\n",
       "  ['336acc6e-0f4a-4dae-8427-fe48aaa8984c',\n",
       "   '5ca88f3c-b24a-4cce-9073-d63a5fdca6d8',\n",
       "   '90087a40-9c45-486d-93e4-da5d5ee3b824',\n",
       "   'eb83a2c3-9142-4708-8b28-043291f9f0bd',\n",
       "   '336acc6e-0f4a-4dae-8427-fe48aaa8984c']]]"
      ]
     },
     "execution_count": 4,
     "metadata": {},
     "output_type": "execute_result"
    }
   ],
   "source": [
    "#Using 'Moving Pictures' by Rush to produce a list of high- and low-level data.\n",
    "\n",
    "#moving_pictures = [\"cb837d0c-5115-479d-ac0e-ab1650fe9078\", \"0266c4c2-5e64-402e-8e26-5cd46b64e8c9\", \"336acc6e-0f4a-4dae-8427-fe48aaa8984c\", \"3ed46a79-c541-496b-9508-c04ecf9fb206\", \"7d9354b2-f8d8-4b7c-be95-1acb97771d2b\", \"9057d88d-f03a-4c0f-b55f-e0d5b901e288\", \"71fcdceb-aa1f-49bb-9d5d-86319bb182d1\"]\n",
    "mbid_dict = {}"
   ]
  },
  {
   "cell_type": "code",
   "execution_count": 5,
   "metadata": {},
   "outputs": [],
   "source": [
    "def get_low_level(mbid):\n",
    "    base_api_url = \"https://acousticbrainz.org/api/v1/\"\n",
    "    url = base_api_url + mbid + \"/low-level?n=0\"\n",
    "    data = requests.get(url)\n",
    "    return data.json()"
   ]
  },
  {
   "cell_type": "code",
   "execution_count": 6,
   "metadata": {},
   "outputs": [],
   "source": [
    "def get_high_level(mbid):\n",
    "    base_api_url = \"https://acousticbrainz.org/api/v1/\"\n",
    "    url = base_api_url + mbid + \"/high-level?n=0\"\n",
    "    data = requests.get(url)\n",
    "    return data.json()"
   ]
  },
  {
   "cell_type": "code",
   "execution_count": 7,
   "metadata": {},
   "outputs": [],
   "source": [
    "#def extract_API(a_list, a_dict):\n",
    "#    a_list = a_list[0]\n",
    "#    print(a_list)\n",
    "#        low_level = get_low_level(i)\n",
    "#        high_level = get_high_level(i)\n",
    "#        a_dict[i] = [low_level, high_level]"
   ]
  },
  {
   "cell_type": "code",
   "execution_count": 31,
   "metadata": {},
   "outputs": [],
   "source": [
    "def extract_API(a_list, a_dict):\n",
    "    for i in a_list:\n",
    "        app = False\n",
    "        for mb in i[1]:\n",
    "            if app:\n",
    "                break\n",
    "            else:\n",
    "                low_level = get_low_level(mb)\n",
    "                high_level = get_high_level(mb)\n",
    "                if low_level == {'message': 'Not found'} or high_level == {'message': 'Not found'}:\n",
    "                    continue\n",
    "                else:\n",
    "                    app = True\n",
    "                    a_dict[i[0]] = [low_level, high_level, i[0]]"
   ]
  },
  {
   "cell_type": "code",
   "execution_count": 32,
   "metadata": {},
   "outputs": [],
   "source": [
    "mbid_dict = {}\n",
    "extract_API(mbid_list, mbid_dict)"
   ]
  },
  {
   "cell_type": "code",
   "execution_count": 33,
   "metadata": {},
   "outputs": [
    {
     "name": "stdout",
     "output_type": "stream",
     "text": [
      "04 Limelight.m4a 04 Limelight.m4a\n",
      "02 Red Barchetta.m4a 02 Red Barchetta.m4a\n",
      "06 Witch Hunt (Part III of Fear).m4a 06 Witch Hunt (Part III of Fear).m4a\n",
      "07 Vital Signs.m4a 07 Vital Signs.m4a\n",
      "01 Tom Sawyer.m4a 01 Tom Sawyer.m4a\n",
      "05 The Camera Eye.m4a 05 The Camera Eye.m4a\n",
      "03 YYZ.m4a 03 YYZ.m4a\n"
     ]
    }
   ],
   "source": [
    "#for k, v in mbid_dict.items():\n",
    "#    print(k, v[2])"
   ]
  },
  {
   "cell_type": "code",
   "execution_count": 10,
   "metadata": {},
   "outputs": [],
   "source": [
    "# NOTE: Extract only certain information from the API in order to avoid unnecessarily large datasets."
   ]
  },
  {
   "cell_type": "code",
   "execution_count": 34,
   "metadata": {},
   "outputs": [],
   "source": [
    "# The following two functions update and read the txt file which will store all relevant information from the API.\n",
    "# This eases access of information when particular parameters are selected.\n",
    "\n",
    "def get_song_list():\n",
    "    f = open(\"song_info.swift\", \"r\")\n",
    "    data = f.readlines()\n",
    "    f.close()\n",
    "    return data"
   ]
  },
  {
   "cell_type": "code",
   "execution_count": 42,
   "metadata": {},
   "outputs": [],
   "source": [
    "def update_song_list(l, now):\n",
    "    f = open(\"song_info.swift\", \"a\")\n",
    "    for k, v in l.items():\n",
    "        if k not in now:\n",
    "            f.write(\"\\\"\" + str(k) + \"\\\": \" + str(v)+\"\\n\")\n",
    "    f.close()\n",
    "    return f"
   ]
  },
  {
   "cell_type": "code",
   "execution_count": 43,
   "metadata": {},
   "outputs": [
    {
     "data": {
      "text/plain": [
       "<_io.TextIOWrapper name='song_info.swift' mode='a' encoding='UTF-8'>"
      ]
     },
     "execution_count": 43,
     "metadata": {},
     "output_type": "execute_result"
    }
   ],
   "source": [
    "current = get_song_list()\n",
    "update_song_list(mbid_dict, current)"
   ]
  },
  {
   "cell_type": "code",
   "execution_count": null,
   "metadata": {},
   "outputs": [],
   "source": []
  },
  {
   "cell_type": "code",
   "execution_count": null,
   "metadata": {},
   "outputs": [],
   "source": []
  }
 ],
 "metadata": {
  "kernelspec": {
   "display_name": "Python 3",
   "language": "python",
   "name": "python3"
  },
  "language_info": {
   "codemirror_mode": {
    "name": "ipython",
    "version": 3
   },
   "file_extension": ".py",
   "mimetype": "text/x-python",
   "name": "python",
   "nbconvert_exporter": "python",
   "pygments_lexer": "ipython3",
   "version": "3.8.3"
  }
 },
 "nbformat": 4,
 "nbformat_minor": 4
}
