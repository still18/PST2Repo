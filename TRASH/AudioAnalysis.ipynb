{
 "cells": [
  {
   "cell_type": "code",
   "execution_count": 5,
   "metadata": {},
   "outputs": [],
   "source": [
    "import numpy as np\n",
    "from librosa import load, feature\n",
    "from IPython.display import Audio\n",
    "import pandas as pd\n"
   ]
  },
  {
   "cell_type": "code",
   "execution_count": 2,
   "metadata": {},
   "outputs": [],
   "source": [
    "def mean_zcr(name):\n",
    "    mzcr = np.mean(feature.zero_crossing_rate(name))\n",
    "    return mzcr"
   ]
  },
  {
   "cell_type": "code",
   "execution_count": 3,
   "metadata": {},
   "outputs": [],
   "source": [
    "def mean_centroid(name):\n",
    "    mcen = np.mean(feature.spectral_centroid(name))\n",
    "    return mcen"
   ]
  },
  {
   "cell_type": "code",
   "execution_count": 4,
   "metadata": {},
   "outputs": [],
   "source": [
    "def mean_rms(name):\n",
    "    mrms = np.mean(feature.rms(name))\n",
    "    return mrms"
   ]
  },
  {
   "cell_type": "code",
   "execution_count": 5,
   "metadata": {},
   "outputs": [],
   "source": [
    "def MFCC(name):\n",
    "    mfcc = (feature.mfcc(name))\n",
    "    data_mfcc = []\n",
    "    for i in mfcc:\n",
    "        data_mfcc = np.append(data_mfcc, np.mean(i))\n",
    "    return data_mfcc"
   ]
  },
  {
   "cell_type": "code",
   "execution_count": 6,
   "metadata": {},
   "outputs": [],
   "source": [
    "def mean_bandwidth(name):\n",
    "    mband = np.mean(feature.spectral_bandwidth(name))\n",
    "    return mband"
   ]
  },
  {
   "cell_type": "code",
   "execution_count": 7,
   "metadata": {},
   "outputs": [],
   "source": [
    "def load_track(name):\n",
    "    (b, fs1) = load(---track name---, sr = 22050)\n",
    "    return(b, fs1)"
   ]
  },
  {
   "cell_type": "code",
   "execution_count": 7,
   "metadata": {},
   "outputs": [
    {
     "name": "stdout",
     "output_type": "stream",
     "text": [
      "recording\n"
     ]
    }
   ],
   "source": [
    "#run \"pip install sounddevice\" in terminal\n",
    "#run \"conda install scipy\" in terminal if you switched to anaconda (at leat I had to)\n",
    "\n",
    "import sounddevice\n",
    "from scipy.io.wavfile import write\n",
    "\n",
    "#audio recorder\n",
    "\n",
    "fs = 44100\n",
    "seconds = 10\n",
    "print(\"recording\")\n",
    "recording = sounddevice.rec(int(seconds*fs), samplerate = fs, channels = 2)\n",
    "sounddevice.wait()\n",
    "write(\"output.wav\", fs, recording)"
   ]
  },
  {
   "cell_type": "code",
   "execution_count": null,
   "metadata": {},
   "outputs": [],
   "source": []
  }
 ],
 "metadata": {
  "kernelspec": {
   "display_name": "Python 3",
   "language": "python",
   "name": "python3"
  },
  "language_info": {
   "codemirror_mode": {
    "name": "ipython",
    "version": 3
   },
   "file_extension": ".py",
   "mimetype": "text/x-python",
   "name": "python",
   "nbconvert_exporter": "python",
   "pygments_lexer": "ipython3",
   "version": "3.8.3"
  }
 },
 "nbformat": 4,
 "nbformat_minor": 4
}
