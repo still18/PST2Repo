{
 "cells": [
  {
   "cell_type": "code",
   "execution_count": null,
   "metadata": {},
   "outputs": [],
   "source": [
    "mood_list = []\n",
    "for i in range(0, len(mbid_dict)):\n",
    "    a = moving_pictures[i]               #Load Individual Song Info\n",
    "    song_info = mbid_dict[a][1]\n",
    "    #print(song_info)\n",
    "    song_high = song_info[\"highlevel\"]   #High-Level Data\n",
    "\n",
    "    song_acoustic = song_high[\"mood_acoustic\"][\"probability\"]  #song_mood is probability of a mood\n",
    "    acoustic_value =song_high[\"mood_acoustic\"][\"value\"]        #acoustic_value is value of mood: acoustic vs not_acoustic\n",
    "\n",
    "    song_electronic = song_high[\"mood_electronic\"][\"probability\"]\n",
    "    electronic_value = song_high[\"mood_electronic\"][\"value\"]\n",
    "\n",
    "    song_happy = song_high[\"mood_happy\"][\"probability\"]\n",
    "    happy_value = song_high[\"mood_happy\"][\"value\"]\n",
    "\n",
    "    song_aggressive = song_high[\"mood_aggressive\"][\"probability\"]\n",
    "    aggressive_value = song_high[\"mood_aggressive\"][\"value\"]\n",
    "\n",
    "    song_party = song_high[\"mood_party\"][\"probability\"]\n",
    "    party_value = song_high[\"mood_party\"][\"value\"]\n",
    "\n",
    "    song_sad = song_high[\"mood_sad\"][\"probability\"]\n",
    "    sad_value = song_high[\"mood_sad\"][\"value\"]\n",
    "\n",
    "    song_relaxed = song_high[\"mood_relaxed\"][\"probability\"]\n",
    "    relaxed_value = song_high[\"mood_relaxed\"][\"value\"]\n",
    "\n",
    "    #Sort all song moods\n",
    "    mood_info = [relaxed_value, song_relaxed*100, aggressive_value, song_aggressive*100, acoustic_value, song_acoustic*100, electronic_value, song_electronic*100, happy_value, song_happy*100, sad_value, song_sad*100, party_value, song_party*100]\n",
    "    mood_list = mood_list + [mood_info]\n",
    "mood_list\n",
    "\n",
    "songIDs = [\"3ed46a79-c541-496b-9508-c04ecf9fb206\", \"0266c4c2-5e64-402e-8e26-5cd46b64e8c9\", \"9057d88d-f03a-4c0f-b55f-e0d5b901e288\", \"71fcdceb-aa1f-49bb-9d5d-86319bb182d1\", \"cb837d0c-5115-479d-ac0e-ab1650fe9078\", \"7d9354b2-f8d8-4b7c-be95-1acb97771d2b\", \"336acc6e-0f4a-4dae-8427-fe48aaa8984c\"]\n",
    "bpms = []\n",
    "rmslist = []\n",
    "for i in range(0,len(songIDs)):\n",
    "    bpm = mbid_dict[songIDs[i]][0][\"rhythm\"][\"bpm\"]\n",
    "    bpms = bpms + [bpm]\n",
    "    rmsMean = mbid_dict[songIDs[i]][0]['lowlevel']['spectral_rms']['mean']\n",
    "    rmslist = rmslist + [rmsMean]\n",
    "valuelist = [mood_list, bpms, rmslist]\n",
    "\n",
    "valuelist"
   ]
  }
 ],
 "metadata": {
  "kernelspec": {
   "display_name": "Python 3",
   "language": "python",
   "name": "python3"
  },
  "language_info": {
   "codemirror_mode": {
    "name": "ipython",
    "version": 3
   },
   "file_extension": ".py",
   "mimetype": "text/x-python",
   "name": "python",
   "nbconvert_exporter": "python",
   "pygments_lexer": "ipython3",
   "version": "3.8.3"
  }
 },
 "nbformat": 4,
 "nbformat_minor": 4
}
