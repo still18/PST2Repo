{
 "cells": [
  {
   "cell_type": "code",
   "execution_count": 42,
   "metadata": {},
   "outputs": [],
   "source": [
    "import json\n",
    "import requests\n",
    "import os\n",
    "import acoustid"
   ]
  },
  {
   "cell_type": "code",
   "execution_count": null,
   "metadata": {},
   "outputs": [],
   "source": []
  },
  {
   "cell_type": "code",
   "execution_count": 43,
   "metadata": {},
   "outputs": [
    {
     "data": {
      "text/plain": [
       "['04 Limelight.m4a',\n",
       " '02 Red Barchetta.m4a',\n",
       " '06 Witch Hunt (Part III of Fear).m4a',\n",
       " '07 Vital Signs.m4a',\n",
       " '01 Tom Sawyer.m4a',\n",
       " '05 The Camera Eye.m4a',\n",
       " '03 YYZ.m4a']"
      ]
     },
     "execution_count": 43,
     "metadata": {},
     "output_type": "execute_result"
    }
   ],
   "source": [
    "## Edit the following variable \"path\" to the path of your music library ##\n",
    "base_path = \"/Users/josephhackman/Desktop/moving_pictures_folder/\"\n",
    "\n",
    "## Edit the following boolean if your music is in \"abum folders\". ##\n",
    "albums_folders = False\n",
    "\n",
    "files = os.listdir(base_path)\n",
    "files"
   ]
  },
  {
   "cell_type": "code",
   "execution_count": 44,
   "metadata": {},
   "outputs": [
    {
     "name": "stdout",
     "output_type": "stream",
     "text": [
      "3ed46a79-c541-496b-9508-c04ecf9fb206\n",
      "0266c4c2-5e64-402e-8e26-5cd46b64e8c9\n",
      "04bd352c-9afd-4910-8b95-b27b141d7bcc\n",
      "6e55a8c0-0177-4e49-a633-e40b7f83afc7\n",
      "518f1f5b-cb33-4d82-9dba-407071badf43\n",
      "29bd7aae-9ddf-4d9b-9c26-63a6f4bfe869\n",
      "336acc6e-0f4a-4dae-8427-fe48aaa8984c\n"
     ]
    }
   ],
   "source": [
    "api_key = 'cSpUJKpD'\n",
    "base_path = \"/Users/josephhackman/Desktop/moving_pictures_folder/\"\n",
    "l = [\"tom.m4a\", \"song1.mp3\"]\n",
    "\n",
    "mbid_list = []\n",
    "\n",
    "for i in files:\n",
    "    results = acoustid.match(api_key, base_path+i)\n",
    "    temp = []\n",
    "    for score, recording_id, title, artist in results:\n",
    "        #mbid_list.append(recording_id)\n",
    "        temp.append(recording_id)\n",
    "    print(temp[0])\n",
    "    mbid_list.append(temp)"
   ]
  },
  {
   "cell_type": "code",
   "execution_count": 45,
   "metadata": {},
   "outputs": [],
   "source": [
    "#Using 'Moving Pictures' by Rush to produce a list of high- and low-level data.\n",
    "\n",
    "#moving_pictures = [\"cb837d0c-5115-479d-ac0e-ab1650fe9078\", \"0266c4c2-5e64-402e-8e26-5cd46b64e8c9\", \"336acc6e-0f4a-4dae-8427-fe48aaa8984c\", \"3ed46a79-c541-496b-9508-c04ecf9fb206\", \"7d9354b2-f8d8-4b7c-be95-1acb97771d2b\", \"9057d88d-f03a-4c0f-b55f-e0d5b901e288\", \"71fcdceb-aa1f-49bb-9d5d-86319bb182d1\"]\n",
    "mbid_dict = {}\n"
   ]
  },
  {
   "cell_type": "code",
   "execution_count": 46,
   "metadata": {},
   "outputs": [],
   "source": [
    "def get_low_level(mbid):\n",
    "    base_api_url = \"https://acousticbrainz.org/api/v1/\"\n",
    "    url = base_api_url + mbid + \"/low-level?n=0\"\n",
    "    data = requests.get(url)\n",
    "    return data.json()"
   ]
  },
  {
   "cell_type": "code",
   "execution_count": 47,
   "metadata": {},
   "outputs": [],
   "source": [
    "def get_high_level(mbid):\n",
    "    base_api_url = \"https://acousticbrainz.org/api/v1/\"\n",
    "    url = base_api_url + mbid + \"/high-level?n=0\"\n",
    "    data = requests.get(url)\n",
    "    return data.json()"
   ]
  },
  {
   "cell_type": "code",
   "execution_count": 48,
   "metadata": {},
   "outputs": [],
   "source": [
    "def extract_API(a_list, a_dict):\n",
    "    a_list = a_list[0]\n",
    "    print(a_list)\n",
    "    for i in a_list:\n",
    "        low_level = get_low_level(i)\n",
    "        high_level = get_high_level(i)\n",
    "        a_dict[i] = [low_level, high_level]"
   ]
  },
  {
   "cell_type": "code",
   "execution_count": 49,
   "metadata": {},
   "outputs": [],
   "source": [
    "def extract_API(a_list, a_dict):\n",
    "    for i in a_list:\n",
    "        app = False\n",
    "        for mb in i:\n",
    "            if app:\n",
    "                break\n",
    "            else:\n",
    "                low_level = get_low_level(mb)\n",
    "                high_level = get_high_level(mb)\n",
    "                if low_level == {'message': 'Not found'} or high_level == {'message': 'Not found'}:\n",
    "                    continue\n",
    "                else:\n",
    "                    app = True\n",
    "                    a_dict[mb] = [low_level, high_level]"
   ]
  },
  {
   "cell_type": "code",
   "execution_count": 50,
   "metadata": {},
   "outputs": [],
   "source": [
    "mbid_dict = {}\n",
    "extract_API(mbid_list, mbid_dict)"
   ]
  },
  {
   "cell_type": "code",
   "execution_count": 41,
   "metadata": {},
   "outputs": [],
   "source": []
  },
  {
   "cell_type": "code",
   "execution_count": 61,
   "metadata": {},
   "outputs": [],
   "source": [
    "# NOTE: Extract only certain information from the API in order to avoid unnecessarily large datasets."
   ]
  },
  {
   "cell_type": "code",
   "execution_count": 51,
   "metadata": {},
   "outputs": [],
   "source": [
    "# The following two functions update and read the txt file which will store all relevant information from the API.\n",
    "# This eases access of information when particular parameters are selected.\n",
    "\n",
    "def get_song_list():\n",
    "    f = open(\"song_info.txt\", \"r\")\n",
    "    data = f.readlines()\n",
    "    f.close()\n",
    "    return data"
   ]
  },
  {
   "cell_type": "code",
   "execution_count": 52,
   "metadata": {},
   "outputs": [],
   "source": [
    "def update_song_list(l, now):\n",
    "    f = open(\"song_info.txt\", \"a\")\n",
    "    for k, v in l.items():\n",
    "        if k not in now:\n",
    "            f.write(str(k) + \": \" + str(v)+\"\\n\")\n",
    "    f.close()\n",
    "    return f"
   ]
  },
  {
   "cell_type": "code",
   "execution_count": 53,
   "metadata": {},
   "outputs": [
    {
     "data": {
      "text/plain": [
       "<_io.TextIOWrapper name='song_info.txt' mode='a' encoding='UTF-8'>"
      ]
     },
     "execution_count": 53,
     "metadata": {},
     "output_type": "execute_result"
    }
   ],
   "source": [
    "current = get_song_list()\n",
    "update_song_list(mbid_dict, current)"
   ]
  },
  {
   "cell_type": "code",
   "execution_count": null,
   "metadata": {},
   "outputs": [],
   "source": []
  },
  {
   "cell_type": "code",
   "execution_count": null,
   "metadata": {},
   "outputs": [],
   "source": []
  }
 ],
 "metadata": {
  "kernelspec": {
   "display_name": "Python 3",
   "language": "python",
   "name": "python3"
  },
  "language_info": {
   "codemirror_mode": {
    "name": "ipython",
    "version": 3
   },
   "file_extension": ".py",
   "mimetype": "text/x-python",
   "name": "python",
   "nbconvert_exporter": "python",
   "pygments_lexer": "ipython3",
   "version": "3.8.3"
  }
 },
 "nbformat": 4,
 "nbformat_minor": 4
}
