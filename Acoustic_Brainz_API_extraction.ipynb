{
 "cells": [
  {
   "cell_type": "code",
   "execution_count": 61,
   "metadata": {},
   "outputs": [],
   "source": [
    "import json\n",
    "import requests"
   ]
  },
  {
   "cell_type": "code",
   "execution_count": 70,
   "metadata": {},
   "outputs": [],
   "source": [
    "#Using 'Moving Pictures' by Rush to produce a list of high- and low-level data.\n",
    "\n",
    "moving_pictures = [\"cb837d0c-5115-479d-ac0e-ab1650fe9078\", \"0266c4c2-5e64-402e-8e26-5cd46b64e8c9\", \"336acc6e-0f4a-4dae-8427-fe48aaa8984c\", \"3ed46a79-c541-496b-9508-c04ecf9fb206\", \"7d9354b2-f8d8-4b7c-be95-1acb97771d2b\", \"9057d88d-f03a-4c0f-b55f-e0d5b901e288\", \"71fcdceb-aa1f-49bb-9d5d-86319bb182d1\"]\n",
    "mbid_dict = {}"
   ]
  },
  {
   "cell_type": "code",
   "execution_count": 63,
   "metadata": {},
   "outputs": [],
   "source": [
    "def get_low_level(mbid):\n",
    "    base_api_url = \"https://acousticbrainz.org/api/v1/\"\n",
    "    url = base_api_url + mbid + \"/low-level?n=0\"\n",
    "    data = requests.get(url)\n",
    "    return data.json()"
   ]
  },
  {
   "cell_type": "code",
   "execution_count": 64,
   "metadata": {},
   "outputs": [],
   "source": [
    "def get_high_level(mbid):\n",
    "    base_api_url = \"https://acousticbrainz.org/api/v1/\"\n",
    "    url = base_api_url + mbid + \"/high-level?n=0\"\n",
    "    data = requests.get(url)\n",
    "    return data.json()"
   ]
  },
  {
   "cell_type": "code",
   "execution_count": 68,
   "metadata": {},
   "outputs": [],
   "source": [
    "def extract_API(a_list, a_dict):\n",
    "    for i in a_list:\n",
    "        low_level = get_low_level(i)\n",
    "        high_level = get_high_level(i)\n",
    "        a_dict[i] = [low_level, high_level]"
   ]
  },
  {
   "cell_type": "code",
   "execution_count": 71,
   "metadata": {},
   "outputs": [],
   "source": [
    "extract_API(moving_pictures, mbid_dict)"
   ]
  },
  {
   "cell_type": "code",
   "execution_count": null,
   "metadata": {},
   "outputs": [],
   "source": [
    "#TO BE ADDED: extracting MBID based on track information\n",
    "\n",
    "# MusicBrainz Picard\n",
    "\n",
    "#http://musicbrainz.org/ws/2/recording?query=%22tom%20sawyer%22+AND+artist:%22Rush%22+AND+release:%22moving+pictures%22+AND+tnum:%221%22+AND+video:%22false%22\n",
    "#https://musicbrainz.org/doc/MusicBrainz_API/Search --> scroll to \"Recording\" search fields\n",
    "    \n",
    "def get_mbid(track_name):\n",
    "    plus_name = \"\"\n",
    "    for i in track_name:\n",
    "        if i == \" \":\n",
    "            plus_name.append(\"+\")\n",
    "        else:\n",
    "            plus_name.append(i)\n",
    "    base_api_url = \"https://musicbrainz.org/ws/2/\"\n",
    "    url = base_api_url + \n",
    "    data = requests.get(url)\n",
    "    return data.json()"
   ]
  }
 ],
 "metadata": {
  "kernelspec": {
   "display_name": "Python 3",
   "language": "python",
   "name": "python3"
  },
  "language_info": {
   "codemirror_mode": {
    "name": "ipython",
    "version": 3
   },
   "file_extension": ".py",
   "mimetype": "text/x-python",
   "name": "python",
   "nbconvert_exporter": "python",
   "pygments_lexer": "ipython3",
   "version": "3.8.3"
  }
 },
 "nbformat": 4,
 "nbformat_minor": 4
}
